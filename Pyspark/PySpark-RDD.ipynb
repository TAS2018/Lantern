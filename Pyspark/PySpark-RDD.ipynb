{
 "cells": [
  {
   "cell_type": "markdown",
   "metadata": {},
   "source": [
    "### Resilient Distributed Datasets"
   ]
  },
  {
   "cell_type": "markdown",
   "metadata": {},
   "source": [
    "#### Two ways to create RDD\n",
    "* parallelize - from collection\n",
    "* textFile - from file "
   ]
  },
  {
   "cell_type": "markdown",
   "metadata": {},
   "source": [
    "### Summary of RDD API's\n",
    "\n",
    "#### Action (PairRDDFunctions)\n",
    "\n",
    "* collectAsMap()\n",
    "* countByKey()\n",
    "* lookup()\n",
    "\n",
    "#### Map Operations\n",
    "\n",
    "* flatMap()\n",
    "* map()\n",
    "* mapPartitions()\n",
    "* mapPartitionsWithIndex()\n",
    "\n",
    "#### Set Operations\n",
    "\n",
    "* cartesian()\n",
    "* distinct()\n",
    "* intersection()\n",
    "* subtract()\n",
    "* union()\n",
    "\n",
    "#### Other Operations\n",
    "\n",
    "* filter()\n",
    "* groupBy()\n",
    "* toDebugString\n",
    "\n",
    "#### PairRDDFunctions (Single RDD)\n",
    "\n",
    "* combineByKey()\n",
    "* foldByKey()\n",
    "* groupByKey()\n",
    "* mapValues()\n",
    "* reduceByKey()\n",
    "\n",
    "#### PairRDDFunctions (Two RDD)\n",
    "\n",
    "* cogroup()\n",
    "* join()\n",
    "* leftOuterJoin()\n",
    "* rightOuterJoin()\n",
    "\n",
    "#### Sorting\n",
    "\n",
    "* sortByKey()\n",
    "* takeOrdered()\n",
    "* top()\n",
    "* Partition\n",
    "\n",
    "#### Hash-Partition\n",
    "* Partitioner set Operations\n",
    "* Partitioner unset Operations\n",
    "* range-partition\n",
    "\n",
    "#### Shuffling\n",
    "* coalesce()\n",
    "* partitionBy()\n",
    "* repartition()\n"
   ]
  },
  {
   "cell_type": "markdown",
   "metadata": {},
   "source": [
    "#### Action (RDD)\n",
    "\n",
    "* aggregate()\n",
    "* collect()\n",
    "* count()\n",
    "* countByValue()\n",
    "* first()\n",
    "* fold()\n",
    "* foreach()\n",
    "* reduce()\n",
    "* saveAsTextFile()\n",
    "* take()\n",
    "* takeOrdered()\n",
    "* takeSample()\n",
    "* top()"
   ]
  },
  {
   "cell_type": "markdown",
   "metadata": {},
   "source": [
    "##### RDD creation from collection - mostly for learning & debugging purpose"
   ]
  },
  {
   "cell_type": "code",
   "execution_count": 1,
   "metadata": {
    "collapsed": false
   },
   "outputs": [
    {
     "data": {
      "text/plain": [
       "[2, 4, 6, 8, 10]"
      ]
     },
     "execution_count": 1,
     "metadata": {},
     "output_type": "execute_result"
    }
   ],
   "source": [
    "#sc - handler to spark framework\n",
    "rdd = sc.parallelize([1,2,3,4,5],2)\n",
    "\n",
    "#map - transformation, it changes data from one format to another\n",
    "\n",
    "rdd = rdd.map(lambda x: x*2)\n",
    "\n",
    "#collect - action\n",
    "#Untill action is connected, transformation wont happen. \n",
    "#This concept of delaying execution is known as lazy loading.\n",
    "#Till spark control reaches action, it can decide best way to create execution code\n",
    "rdd.collect()"
   ]
  },
  {
   "cell_type": "code",
   "execution_count": 3,
   "metadata": {
    "collapsed": false
   },
   "outputs": [
    {
     "data": {
      "text/plain": [
       "5"
      ]
     },
     "execution_count": 3,
     "metadata": {},
     "output_type": "execute_result"
    }
   ],
   "source": [
    "#Return number of data pointed by rdd\n",
    "rdd.count()"
   ]
  },
  {
   "cell_type": "code",
   "execution_count": 4,
   "metadata": {
    "collapsed": false
   },
   "outputs": [
    {
     "data": {
      "text/plain": [
       "[[2, 4], [6, 8, 10]]"
      ]
     },
     "execution_count": 4,
     "metadata": {},
     "output_type": "execute_result"
    }
   ],
   "source": [
    "#glom - puts data of different partition in different list\n",
    "rdd.glom().collect()"
   ]
  },
  {
   "cell_type": "markdown",
   "metadata": {},
   "source": [
    "##### Creating RDD using textFile from baby_name.csv"
   ]
  },
  {
   "cell_type": "code",
   "execution_count": 6,
   "metadata": {
    "collapsed": true
   },
   "outputs": [],
   "source": [
    "baby_names = sc.textFile('Baby_Names__Beginning_2007.csv')"
   ]
  },
  {
   "cell_type": "code",
   "execution_count": 7,
   "metadata": {
    "collapsed": false
   },
   "outputs": [
    {
     "data": {
      "text/plain": [
       "[u'Year,First Name,County,Sex,Count',\n",
       " u'2013,GAVIN,ST LAWRENCE,M,9',\n",
       " u'2013,LEVI,ST LAWRENCE,M,9',\n",
       " u'2013,LOGAN,NEW YORK,M,44',\n",
       " u'2013,HUDSON,NEW YORK,M,49']"
      ]
     },
     "execution_count": 7,
     "metadata": {},
     "output_type": "execute_result"
    }
   ],
   "source": [
    "#Returns first 5 entries\n",
    "baby_names.take(5)"
   ]
  },
  {
   "cell_type": "code",
   "execution_count": 12,
   "metadata": {
    "collapsed": false
   },
   "outputs": [
    {
     "data": {
      "text/plain": [
       "484"
      ]
     },
     "execution_count": 12,
     "metadata": {},
     "output_type": "execute_result"
    }
   ],
   "source": [
    "#Randomly choses 0.01% rows from the entire dataset\n",
    "baby_names.sample(False, 0.01, seed=12).count()"
   ]
  },
  {
   "cell_type": "code",
   "execution_count": null,
   "metadata": {
    "collapsed": false
   },
   "outputs": [],
   "source": []
  },
  {
   "cell_type": "code",
   "execution_count": null,
   "metadata": {
    "collapsed": false
   },
   "outputs": [],
   "source": []
  },
  {
   "cell_type": "code",
   "execution_count": null,
   "metadata": {
    "collapsed": false
   },
   "outputs": [],
   "source": []
  },
  {
   "cell_type": "code",
   "execution_count": 13,
   "metadata": {
    "collapsed": true
   },
   "outputs": [],
   "source": [
    "#PairRDD\n",
    "l = [('awi',1000),('jack',2000),('jill',3000),('bill',500)]\n",
    "rdd_pair = sc.parallelize(l)"
   ]
  },
  {
   "cell_type": "code",
   "execution_count": 15,
   "metadata": {
    "collapsed": false
   },
   "outputs": [
    {
     "data": {
      "text/plain": [
       "[('awi', 1000), ('jack', 2000), ('jill', 3000), ('bill', 500)]"
      ]
     },
     "execution_count": 15,
     "metadata": {},
     "output_type": "execute_result"
    }
   ],
   "source": [
    "rdd_pair.collect()"
   ]
  },
  {
   "cell_type": "code",
   "execution_count": 8,
   "metadata": {
    "collapsed": true
   },
   "outputs": [],
   "source": [
    "f = lambda x,y: x + 100 + y"
   ]
  },
  {
   "cell_type": "code",
   "execution_count": 17,
   "metadata": {
    "collapsed": false
   },
   "outputs": [
    {
     "data": {
      "text/plain": [
       "[2, 4, 6, 8, 10]"
      ]
     },
     "execution_count": 17,
     "metadata": {},
     "output_type": "execute_result"
    }
   ],
   "source": [
    "rdd.collect()"
   ]
  },
  {
   "cell_type": "code",
   "execution_count": 18,
   "metadata": {
    "collapsed": false
   },
   "outputs": [
    {
     "data": {
      "text/plain": [
       "['2Hello', '4Hello', '6Hello', '8Hello', '10Hello']"
      ]
     },
     "execution_count": 18,
     "metadata": {},
     "output_type": "execute_result"
    }
   ],
   "source": [
    "#map is transformation\n",
    "str_rdd = rdd.map(lambda x : str(x)+'Hello')\n",
    "str_rdd.collect()"
   ]
  },
  {
   "cell_type": "code",
   "execution_count": 10,
   "metadata": {
    "collapsed": true
   },
   "outputs": [],
   "source": [
    "l = rdd.map(lambda x: x*2).collect()\n"
   ]
  },
  {
   "cell_type": "code",
   "execution_count": 20,
   "metadata": {
    "collapsed": false
   },
   "outputs": [
    {
     "data": {
      "text/plain": [
       "100"
      ]
     },
     "execution_count": 20,
     "metadata": {},
     "output_type": "execute_result"
    }
   ],
   "source": [
    "def f(x):\n",
    "    print x\n",
    "    return x+2\n",
    "\n",
    "l = range(100)\n",
    "rdd= sc.parallelize(l)\n",
    "rdd = rdd.map(f)\n",
    "rdd.count()\n"
   ]
  },
  {
   "cell_type": "code",
   "execution_count": 12,
   "metadata": {
    "collapsed": true
   },
   "outputs": [],
   "source": []
  },
  {
   "cell_type": "code",
   "execution_count": 12,
   "metadata": {
    "collapsed": false
   },
   "outputs": [
    {
     "data": {
      "text/plain": [
       "['2 Num',\n",
       " '4 Num',\n",
       " '6 Num',\n",
       " '8 Num',\n",
       " '10 Num',\n",
       " '12 Num',\n",
       " '14 Num',\n",
       " '16 Num',\n",
       " '18 Num',\n",
       " '20 Num',\n",
       " '22 Num',\n",
       " '24 Num',\n",
       " '26 Num',\n",
       " '28 Num',\n",
       " '30 Num',\n",
       " '32 Num',\n",
       " '34 Num',\n",
       " '36 Num',\n",
       " '38 Num',\n",
       " '40 Num',\n",
       " '42 Num',\n",
       " '44 Num',\n",
       " '46 Num',\n",
       " '48 Num',\n",
       " '50 Num',\n",
       " '52 Num',\n",
       " '54 Num',\n",
       " '56 Num',\n",
       " '58 Num',\n",
       " '60 Num',\n",
       " '62 Num',\n",
       " '64 Num',\n",
       " '66 Num',\n",
       " '68 Num',\n",
       " '70 Num',\n",
       " '72 Num',\n",
       " '74 Num',\n",
       " '76 Num',\n",
       " '78 Num',\n",
       " '80 Num',\n",
       " '82 Num',\n",
       " '84 Num',\n",
       " '86 Num',\n",
       " '88 Num',\n",
       " '90 Num',\n",
       " '92 Num',\n",
       " '94 Num',\n",
       " '96 Num',\n",
       " '98 Num',\n",
       " '100 Num']"
      ]
     },
     "execution_count": 12,
     "metadata": {},
     "output_type": "execute_result"
    }
   ],
   "source": [
    "#First map creates a RDD with all numbers added with 2, second map creates RDD with str version of number. Collect action gets all data into driver\n",
    "sc.parallelize(l).map(lambda x: x+2).filter(lambda x: x%2 == 0).map(lambda x: str(x)+' Num').collect()"
   ]
  },
  {
   "cell_type": "code",
   "execution_count": 24,
   "metadata": {
    "collapsed": false
   },
   "outputs": [
    {
     "name": "stdout",
     "output_type": "stream",
     "text": [
      "Map  [4, 16, 64, 5, 25, 125, 6, 36, 216, 7, 49, 343, 8, 64, 512]\n",
      "FlatMap  [(4, 16, 64), (5, 25, 125), (6, 36, 216), (7, 49, 343), (8, 64, 512)]\n"
     ]
    }
   ],
   "source": [
    "#flatmap - does 1 to N mapping\n",
    "data = [4,5,6,7,8]\n",
    "rdd = sc.parallelize(data)\n",
    "\n",
    "print 'Map ',rdd.flatMap(lambda d: (d,d*d,d*d*d)).collect()\n",
    "\n",
    "print 'FlatMap ',rdd.map(lambda d: (d,d*d,d*d*d)).collect()"
   ]
  },
  {
   "cell_type": "code",
   "execution_count": 32,
   "metadata": {
    "collapsed": false
   },
   "outputs": [
    {
     "name": "stdout",
     "output_type": "stream",
     "text": [
      "10000\n",
      "10000\n"
     ]
    },
    {
     "data": {
      "text/plain": [
       "ParallelCollectionRDD[49] at parallelize at PythonRDD.scala:480"
      ]
     },
     "execution_count": 32,
     "metadata": {},
     "output_type": "execute_result"
    }
   ],
   "source": [
    "#Using cache() persists \n",
    "rdd = sc.parallelize(range(10000)) #first time this line will be executed\n",
    "rdd.cache()\n",
    "rdd1 = rdd.map(lambda x: x+2)\n",
    "rdd2 = rdd.map(lambda x:x+3)\n",
    "print rdd1.count()\n",
    "print rdd2.count()\n",
    "\n",
    "#Remove data from chache\n",
    "rdd.unpersist()"
   ]
  },
  {
   "cell_type": "code",
   "execution_count": 14,
   "metadata": {
    "collapsed": false
   },
   "outputs": [
    {
     "data": {
      "text/plain": [
       "['2 Num',\n",
       " '4 Num',\n",
       " '6 Num',\n",
       " '8 Num',\n",
       " '10 Num',\n",
       " '12 Num',\n",
       " '14 Num',\n",
       " '16 Num',\n",
       " '18 Num',\n",
       " '20 Num',\n",
       " '22 Num',\n",
       " '24 Num',\n",
       " '26 Num',\n",
       " '28 Num',\n",
       " '30 Num',\n",
       " '32 Num',\n",
       " '34 Num',\n",
       " '36 Num',\n",
       " '38 Num',\n",
       " '40 Num',\n",
       " '42 Num',\n",
       " '44 Num',\n",
       " '46 Num',\n",
       " '48 Num',\n",
       " '50 Num',\n",
       " '52 Num',\n",
       " '54 Num',\n",
       " '56 Num',\n",
       " '58 Num',\n",
       " '60 Num',\n",
       " '62 Num',\n",
       " '64 Num',\n",
       " '66 Num',\n",
       " '68 Num',\n",
       " '70 Num',\n",
       " '72 Num',\n",
       " '74 Num',\n",
       " '76 Num',\n",
       " '78 Num',\n",
       " '80 Num',\n",
       " '82 Num',\n",
       " '84 Num',\n",
       " '86 Num',\n",
       " '88 Num',\n",
       " '90 Num',\n",
       " '92 Num',\n",
       " '94 Num',\n",
       " '96 Num',\n",
       " '98 Num',\n",
       " '100 Num']"
      ]
     },
     "execution_count": 14,
     "metadata": {},
     "output_type": "execute_result"
    }
   ],
   "source": [
    "rdd.filter(lambda x: x%2 == 0).map(lambda x: str(x)+' Num').collect()"
   ]
  },
  {
   "cell_type": "code",
   "execution_count": null,
   "metadata": {
    "collapsed": true
   },
   "outputs": [],
   "source": []
  },
  {
   "cell_type": "code",
   "execution_count": 15,
   "metadata": {
    "collapsed": false
   },
   "outputs": [
    {
     "data": {
      "text/plain": [
       "[6,\n",
       " 10,\n",
       " 14,\n",
       " 18,\n",
       " 22,\n",
       " 26,\n",
       " 30,\n",
       " 34,\n",
       " 38,\n",
       " 42,\n",
       " 46,\n",
       " 50,\n",
       " 54,\n",
       " 58,\n",
       " 62,\n",
       " 66,\n",
       " 70,\n",
       " 74,\n",
       " 78,\n",
       " 82,\n",
       " 86,\n",
       " 90,\n",
       " 94,\n",
       " 98,\n",
       " 102,\n",
       " 106,\n",
       " 110,\n",
       " 114,\n",
       " 118,\n",
       " 122,\n",
       " 126,\n",
       " 130,\n",
       " 134,\n",
       " 138,\n",
       " 142,\n",
       " 146,\n",
       " 150,\n",
       " 154,\n",
       " 158,\n",
       " 162,\n",
       " 166,\n",
       " 170,\n",
       " 174,\n",
       " 178,\n",
       " 182,\n",
       " 186,\n",
       " 190,\n",
       " 194,\n",
       " 198,\n",
       " 202]"
      ]
     },
     "execution_count": 15,
     "metadata": {},
     "output_type": "execute_result"
    }
   ],
   "source": [
    "rdd.filter(lambda x: x%2 != 0).map(lambda x: x*2).collect()"
   ]
  },
  {
   "cell_type": "markdown",
   "metadata": {},
   "source": [
    "### Set Operations"
   ]
  },
  {
   "cell_type": "code",
   "execution_count": 33,
   "metadata": {
    "collapsed": true
   },
   "outputs": [],
   "source": [
    "rdd1 = sc.parallelize(range(1,10))\n",
    "rdd2 = sc.parallelize(range(11,20))\n",
    "rdd3 = sc.parallelize(range(5,10))"
   ]
  },
  {
   "cell_type": "code",
   "execution_count": 34,
   "metadata": {
    "collapsed": false
   },
   "outputs": [
    {
     "data": {
      "text/plain": [
       "[(1, 11),\n",
       " (1, 12),\n",
       " (1, 13),\n",
       " (1, 14),\n",
       " (1, 15),\n",
       " (1, 16),\n",
       " (1, 17),\n",
       " (1, 18),\n",
       " (1, 19),\n",
       " (2, 11),\n",
       " (2, 12),\n",
       " (2, 13),\n",
       " (2, 14),\n",
       " (2, 15),\n",
       " (2, 16),\n",
       " (2, 17),\n",
       " (2, 18),\n",
       " (2, 19),\n",
       " (3, 11),\n",
       " (3, 12),\n",
       " (3, 13),\n",
       " (3, 14),\n",
       " (3, 15),\n",
       " (3, 16),\n",
       " (3, 17),\n",
       " (3, 18),\n",
       " (3, 19),\n",
       " (4, 11),\n",
       " (4, 12),\n",
       " (4, 13),\n",
       " (4, 14),\n",
       " (4, 15),\n",
       " (4, 16),\n",
       " (4, 17),\n",
       " (4, 18),\n",
       " (4, 19),\n",
       " (5, 11),\n",
       " (5, 12),\n",
       " (5, 13),\n",
       " (5, 14),\n",
       " (5, 15),\n",
       " (5, 16),\n",
       " (5, 17),\n",
       " (5, 18),\n",
       " (5, 19),\n",
       " (6, 11),\n",
       " (6, 12),\n",
       " (6, 13),\n",
       " (6, 14),\n",
       " (6, 15),\n",
       " (6, 16),\n",
       " (6, 17),\n",
       " (6, 18),\n",
       " (6, 19),\n",
       " (7, 11),\n",
       " (7, 12),\n",
       " (7, 13),\n",
       " (7, 14),\n",
       " (7, 15),\n",
       " (7, 16),\n",
       " (7, 17),\n",
       " (7, 18),\n",
       " (7, 19),\n",
       " (8, 11),\n",
       " (8, 12),\n",
       " (8, 13),\n",
       " (8, 14),\n",
       " (8, 15),\n",
       " (8, 16),\n",
       " (8, 17),\n",
       " (8, 18),\n",
       " (8, 19),\n",
       " (9, 11),\n",
       " (9, 12),\n",
       " (9, 13),\n",
       " (9, 14),\n",
       " (9, 15),\n",
       " (9, 16),\n",
       " (9, 17),\n",
       " (9, 18),\n",
       " (9, 19)]"
      ]
     },
     "execution_count": 34,
     "metadata": {},
     "output_type": "execute_result"
    }
   ],
   "source": [
    "# Transformation\n",
    "rdd1.cartesian(rdd2).collect()"
   ]
  },
  {
   "cell_type": "code",
   "execution_count": 18,
   "metadata": {
    "collapsed": false
   },
   "outputs": [
    {
     "data": {
      "text/plain": [
       "[8, 6, 9, 5, 7]"
      ]
     },
     "execution_count": 18,
     "metadata": {},
     "output_type": "execute_result"
    }
   ],
   "source": [
    "print rdd1.union(rdd2).collect()\n",
    "\n",
    "#Intersection\n",
    "print rdd1.intersection(rdd3).collect()"
   ]
  },
  {
   "cell_type": "code",
   "execution_count": 19,
   "metadata": {
    "collapsed": true
   },
   "outputs": [],
   "source": [
    "#Checkpointing makes a backup of all rdd so that it can restore if system crashes\n",
    "sc.setCheckpointDir('ckpt')\n",
    "rdd.checkpoint()"
   ]
  },
  {
   "cell_type": "code",
   "execution_count": 20,
   "metadata": {
    "collapsed": false
   },
   "outputs": [
    {
     "data": {
      "text/plain": [
       "[[0, 1], [2, 3], [4, 5], [6, 7, 8, 9]]"
      ]
     },
     "execution_count": 20,
     "metadata": {},
     "output_type": "execute_result"
    }
   ],
   "source": [
    "#4 is number of partition\n",
    "sc.parallelize(range(10),4).glom().collect()"
   ]
  },
  {
   "cell_type": "code",
   "execution_count": 21,
   "metadata": {
    "collapsed": false
   },
   "outputs": [
    {
     "data": {
      "text/plain": [
       "[[0, 1, 2, 3], [4, 5, 6, 7, 8, 9]]"
      ]
     },
     "execution_count": 21,
     "metadata": {},
     "output_type": "execute_result"
    }
   ],
   "source": [
    "sc.parallelize(range(10),4).coalesce(2).glom().collect()"
   ]
  },
  {
   "cell_type": "code",
   "execution_count": 22,
   "metadata": {
    "collapsed": true
   },
   "outputs": [],
   "source": [
    " x = sc.parallelize([(\"a\", 1), (\"b\", 4),(\"a\",9)])"
   ]
  },
  {
   "cell_type": "code",
   "execution_count": 23,
   "metadata": {
    "collapsed": true
   },
   "outputs": [],
   "source": [
    "y = sc.parallelize([(\"a\",5)])"
   ]
  },
  {
   "cell_type": "markdown",
   "metadata": {},
   "source": [
    "### cogroup"
   ]
  },
  {
   "cell_type": "code",
   "execution_count": 24,
   "metadata": {
    "collapsed": true
   },
   "outputs": [],
   "source": [
    "new_rdd = x.cogroup(y)"
   ]
  },
  {
   "cell_type": "code",
   "execution_count": 25,
   "metadata": {
    "collapsed": true
   },
   "outputs": [],
   "source": [
    "n_rdd = y.cogroup(x)"
   ]
  },
  {
   "cell_type": "code",
   "execution_count": 27,
   "metadata": {
    "collapsed": true
   },
   "outputs": [],
   "source": [
    "n_rdd.collect()"
   ]
  },
  {
   "cell_type": "code",
   "execution_count": 26,
   "metadata": {
    "collapsed": false
   },
   "outputs": [
    {
     "data": {
      "text/plain": [
       "[('a', [[5], [1, 9]]), ('b', [[], [4]])]"
      ]
     },
     "execution_count": 26,
     "metadata": {},
     "output_type": "execute_result"
    }
   ],
   "source": [
    "[(a, map(list,b)) for a, b in y.cogroup(x).collect()]"
   ]
  },
  {
   "cell_type": "code",
   "execution_count": 27,
   "metadata": {
    "collapsed": false
   },
   "outputs": [
    {
     "data": {
      "text/plain": [
       "[('a',\n",
       "  (<pyspark.resultiterable.ResultIterable at 0x7f17934c50d0>,\n",
       "   <pyspark.resultiterable.ResultIterable at 0x7f17934c6ed0>)),\n",
       " ('b',\n",
       "  (<pyspark.resultiterable.ResultIterable at 0x7f17934c6b10>,\n",
       "   <pyspark.resultiterable.ResultIterable at 0x7f17934c6fd0>))]"
      ]
     },
     "execution_count": 27,
     "metadata": {},
     "output_type": "execute_result"
    }
   ],
   "source": [
    "new_rdd.collect()"
   ]
  },
  {
   "cell_type": "code",
   "execution_count": 28,
   "metadata": {
    "collapsed": false
   },
   "outputs": [
    {
     "data": {
      "text/plain": [
       "[('a', [[1, 9], [5]]), ('b', [[4], []])]"
      ]
     },
     "execution_count": 28,
     "metadata": {},
     "output_type": "execute_result"
    }
   ],
   "source": [
    "#[x+2 for x in range(10)]\n",
    "[(a, map(list,b)) for a, b in x.cogroup(y).collect()]"
   ]
  },
  {
   "cell_type": "code",
   "execution_count": 29,
   "metadata": {
    "collapsed": false
   },
   "outputs": [
    {
     "data": {
      "text/plain": [
       "[5]"
      ]
     },
     "execution_count": 29,
     "metadata": {},
     "output_type": "execute_result"
    }
   ],
   "source": [
    "#cogroup returns \n",
    "list(x.cogroup(y).collect()[0][1][1])"
   ]
  },
  {
   "cell_type": "code",
   "execution_count": 30,
   "metadata": {
    "collapsed": true
   },
   "outputs": [],
   "source": [
    "rdd = sc.parallelize([('a',(11,12)),('b',(13,14))])"
   ]
  },
  {
   "cell_type": "code",
   "execution_count": 31,
   "metadata": {
    "collapsed": false
   },
   "outputs": [
    {
     "data": {
      "text/plain": [
       "{'a': (11, 12), 'b': (13, 14)}"
      ]
     },
     "execution_count": 31,
     "metadata": {},
     "output_type": "execute_result"
    }
   ],
   "source": [
    "rdd.collectAsMap()"
   ]
  },
  {
   "cell_type": "code",
   "execution_count": 32,
   "metadata": {
    "collapsed": false
   },
   "outputs": [
    {
     "data": {
      "text/plain": [
       "defaultdict(int, {'a': 2, 'c': 2, 'd': 1})"
      ]
     },
     "execution_count": 32,
     "metadata": {},
     "output_type": "execute_result"
    }
   ],
   "source": [
    "sc.parallelize(['a','c','a','d','c']).countByValue()"
   ]
  },
  {
   "cell_type": "code",
   "execution_count": 33,
   "metadata": {
    "collapsed": true
   },
   "outputs": [],
   "source": [
    "from operator import add"
   ]
  },
  {
   "cell_type": "code",
   "execution_count": 34,
   "metadata": {
    "collapsed": true
   },
   "outputs": [],
   "source": [
    "x = sc.parallelize([(\"a\", 1), (\"b\", 1), (\"a\", 1)])"
   ]
  },
  {
   "cell_type": "code",
   "execution_count": 35,
   "metadata": {
    "collapsed": false
   },
   "outputs": [
    {
     "data": {
      "text/plain": [
       "([0, 25, 50], [25, 26])"
      ]
     },
     "execution_count": 35,
     "metadata": {},
     "output_type": "execute_result"
    }
   ],
   "source": [
    "rdd = sc.parallelize(range(51))\n",
    "rdd.histogram(2)"
   ]
  },
  {
   "cell_type": "code",
   "execution_count": 36,
   "metadata": {
    "collapsed": true
   },
   "outputs": [],
   "source": [
    "x = sc.parallelize([(\"a\", 1), (\"b\", 1), (\"a\", 1)])"
   ]
  },
  {
   "cell_type": "code",
   "execution_count": 37,
   "metadata": {
    "collapsed": false
   },
   "outputs": [
    {
     "data": {
      "text/plain": [
       "{'a': 1, 'b': 1}"
      ]
     },
     "execution_count": 37,
     "metadata": {},
     "output_type": "execute_result"
    }
   ],
   "source": [
    "x.collectAsMap()"
   ]
  },
  {
   "cell_type": "code",
   "execution_count": 38,
   "metadata": {
    "collapsed": false
   },
   "outputs": [
    {
     "data": {
      "text/plain": [
       "[[('a', 1), ('b', 1), ('a', 2), ('a', 8)],\n",
       " [('c', 4), ('a', 12), ('a', 18), ('c', 14)]]"
      ]
     },
     "execution_count": 38,
     "metadata": {},
     "output_type": "execute_result"
    }
   ],
   "source": [
    "sc.parallelize([(\"a\", 1), (\"b\", 1), (\"a\", 2),(\"a\",8),(\"c\",4), (\"a\", 12),(\"a\",18),(\"c\",14)],2).glom().collect()"
   ]
  },
  {
   "cell_type": "code",
   "execution_count": 39,
   "metadata": {
    "collapsed": true
   },
   "outputs": [],
   "source": [
    "rdd = sc.parallelize([(\"a\", 1), (\"b\", 1), (\"a\", 2),(\"a\",8),(\"c\",4), (\"a\", 12),(\"a\",18),(\"c\",14)],2)"
   ]
  },
  {
   "cell_type": "markdown",
   "metadata": {},
   "source": [
    "### combineByKey"
   ]
  },
  {
   "cell_type": "code",
   "execution_count": 40,
   "metadata": {
    "collapsed": false
   },
   "outputs": [
    {
     "data": {
      "text/plain": [
       "[('a', 41), ('c', 18), ('b', 1)]"
      ]
     },
     "execution_count": 40,
     "metadata": {},
     "output_type": "execute_result"
    }
   ],
   "source": [
    "# In MyStr\n",
    "# In MyStr\n",
    "# In MyConcat\n",
    "# In MyConcat\n",
    "# In MyStr\n",
    "# In MyStr\n",
    "# In MyConcat\n",
    "# In MyConcat\n",
    "# In myPartConcat\n",
    "\n",
    "#Invoked per partition first time a key appears, d is the corresponding value \n",
    "def mystr(d):\n",
    "    print 'In MyStr'\n",
    "    return d\n",
    "\n",
    "# 2nd time & onwards for same key in same partition\n",
    "def myconcat(a,b):\n",
    "    print 'In MyConcat'\n",
    "    return a + b\n",
    "\n",
    "#Works across partitions\n",
    "def mypartConcat(a,b):\n",
    "    print 'In myPartConcat'\n",
    "    return a + b\n",
    "\n",
    "#mystr - this converts the V into of type C\n",
    "rdd.combineByKey(mystr, myconcat, mypartConcat).collect()"
   ]
  },
  {
   "cell_type": "code",
   "execution_count": 43,
   "metadata": {
    "collapsed": true
   },
   "outputs": [],
   "source": [
    "l = [1,2,3,4,5,6]\n",
    "rdd = sc.parallelize(l)\n"
   ]
  },
  {
   "cell_type": "code",
   "execution_count": 41,
   "metadata": {
    "collapsed": false
   },
   "outputs": [
    {
     "data": {
      "text/plain": [
       "8"
      ]
     },
     "execution_count": 41,
     "metadata": {},
     "output_type": "execute_result"
    }
   ],
   "source": [
    "def f(x):\n",
    "    print x\n",
    "    return x\n",
    "\n",
    "rdd.map(f).count()"
   ]
  },
  {
   "cell_type": "code",
   "execution_count": 42,
   "metadata": {
    "collapsed": false
   },
   "outputs": [
    {
     "data": {
      "text/plain": [
       "[('a', 8.2), ('c', 9.0), ('b', 1.0)]"
      ]
     },
     "execution_count": 42,
     "metadata": {},
     "output_type": "execute_result"
    }
   ],
   "source": [
    "#Invoked per partition first time a key appears, d is the corresponding value \n",
    "def mystr(d):\n",
    "    print 'In MyStr'\n",
    "    return (d,1)\n",
    "\n",
    "# 2nd time & onwards for same key in same partition\n",
    "def myconcat(a,b):\n",
    "    print 'In MyConcat'\n",
    "    return (a[0] + b,a[1]+1)\n",
    "\n",
    "#Works across partitions\n",
    "def mypartConcat(a,b):\n",
    "    print 'In myPartConcat'\n",
    "    return (a[0] + b[0],a[1] + b[1])\n",
    "\n",
    "#mystr - this converts the V into of type C\n",
    "data = rdd.combineByKey(mystr, myconcat, mypartConcat)\n",
    "data.map(lambda x: (x[0], x[1][0]/(x[1][1]*1.0))).collect()\n",
    "#map(lambda x: (x[0], float(x[1][0])/x[1][1]),data)"
   ]
  },
  {
   "cell_type": "code",
   "execution_count": 43,
   "metadata": {
    "collapsed": true
   },
   "outputs": [],
   "source": [
    "rdd1 = sc.parallelize([('a', 1), ('b', 4), ('c',10)])\n",
    "rdd2 = sc.parallelize([('a', 4), ('a', 1), ('b', '6'), ('d', 15)])"
   ]
  },
  {
   "cell_type": "code",
   "execution_count": 44,
   "metadata": {
    "collapsed": true
   },
   "outputs": [],
   "source": [
    "rdd3 = rdd1.leftOuterJoin(rdd2)"
   ]
  },
  {
   "cell_type": "code",
   "execution_count": 45,
   "metadata": {
    "collapsed": false
   },
   "outputs": [
    {
     "data": {
      "text/plain": [
       "[('a', (1, 4)), ('a', (1, 1)), ('c', (10, None)), ('b', (4, '6'))]"
      ]
     },
     "execution_count": 45,
     "metadata": {},
     "output_type": "execute_result"
    }
   ],
   "source": [
    "rdd3.collect()"
   ]
  },
  {
   "cell_type": "code",
   "execution_count": 46,
   "metadata": {
    "collapsed": false
   },
   "outputs": [
    {
     "data": {
      "text/plain": [
       "[('a', (1, 4)), ('a', (1, 1)), ('b', (4, '6'))]"
      ]
     },
     "execution_count": 46,
     "metadata": {},
     "output_type": "execute_result"
    }
   ],
   "source": [
    "rdd1.join(rdd2).collect()"
   ]
  },
  {
   "cell_type": "code",
   "execution_count": 47,
   "metadata": {
    "collapsed": false
   },
   "outputs": [
    {
     "data": {
      "text/plain": [
       "MapPartitionsRDD[132] at coalesce at NativeMethodAccessorImpl.java:0"
      ]
     },
     "execution_count": 47,
     "metadata": {},
     "output_type": "execute_result"
    }
   ],
   "source": [
    "rdd1.repartition(4)"
   ]
  },
  {
   "cell_type": "code",
   "execution_count": 48,
   "metadata": {
    "collapsed": false
   },
   "outputs": [
    {
     "data": {
      "text/plain": [
       "1"
      ]
     },
     "execution_count": 48,
     "metadata": {},
     "output_type": "execute_result"
    }
   ],
   "source": [
    "len(rdd1.glom().collect())"
   ]
  },
  {
   "cell_type": "code",
   "execution_count": 49,
   "metadata": {
    "collapsed": false
   },
   "outputs": [
    {
     "data": {
      "text/plain": [
       "[[('a', 1), ('b', 4), ('c', 10)]]"
      ]
     },
     "execution_count": 49,
     "metadata": {},
     "output_type": "execute_result"
    }
   ],
   "source": [
    "rdd1.glom().collect()"
   ]
  },
  {
   "cell_type": "code",
   "execution_count": 50,
   "metadata": {
    "collapsed": true
   },
   "outputs": [],
   "source": [
    "#rdd1.saveAsTextFile('/path/')"
   ]
  },
  {
   "cell_type": "code",
   "execution_count": 51,
   "metadata": {
    "collapsed": false
   },
   "outputs": [
    {
     "data": {
      "text/plain": [
       "[('a', 1), ('b', 4), ('c', 10)]"
      ]
     },
     "execution_count": 51,
     "metadata": {},
     "output_type": "execute_result"
    }
   ],
   "source": [
    "rdd1.collect()"
   ]
  },
  {
   "cell_type": "code",
   "execution_count": 53,
   "metadata": {
    "collapsed": true
   },
   "outputs": [],
   "source": [
    "def f(x):\n",
    "    print x"
   ]
  },
  {
   "cell_type": "code",
   "execution_count": 55,
   "metadata": {
    "collapsed": true
   },
   "outputs": [],
   "source": [
    "#prints in executer\n",
    "rdd1.foreach(f)"
   ]
  },
  {
   "cell_type": "markdown",
   "metadata": {},
   "source": [
    "### Partition"
   ]
  },
  {
   "cell_type": "code",
   "execution_count": 56,
   "metadata": {
    "collapsed": false
   },
   "outputs": [
    {
     "data": {
      "text/plain": [
       "[3, 7]"
      ]
     },
     "execution_count": 56,
     "metadata": {},
     "output_type": "execute_result"
    }
   ],
   "source": [
    "rdd = sc.parallelize([1, 2, 3, 4], 2)\n",
    "def f(iterator): yield sum(iterator)\n",
    "rdd.mapPartitions(f).collect()"
   ]
  },
  {
   "cell_type": "code",
   "execution_count": 57,
   "metadata": {
    "collapsed": false
   },
   "outputs": [
    {
     "data": {
      "text/plain": [
       "[(0, 3), (1, 7)]"
      ]
     },
     "execution_count": 57,
     "metadata": {},
     "output_type": "execute_result"
    }
   ],
   "source": [
    "rdd = sc.parallelize([1, 2, 3, 4], 2)\n",
    "def f(splitIndex, iterator): yield (splitIndex,sum(iterator))\n",
    "rdd.mapPartitionsWithIndex(f).collect()"
   ]
  },
  {
   "cell_type": "code",
   "execution_count": 60,
   "metadata": {
    "collapsed": false
   },
   "outputs": [
    {
     "data": {
      "text/plain": [
       "[[(3, 3)], [(1, 1), (4, 4), (4, 4), (1, 1)], [(2, 2), (2, 2)]]"
      ]
     },
     "execution_count": 60,
     "metadata": {},
     "output_type": "execute_result"
    }
   ],
   "source": [
    "pairs = sc.parallelize([1, 2, 3, 4, 2, 4, 1]).map(lambda x: (x, x))\n",
    "pairs.partitionBy(3, lambda x: x%3).glom().collect()"
   ]
  },
  {
   "cell_type": "markdown",
   "metadata": {},
   "source": [
    "### Aggregate"
   ]
  },
  {
   "cell_type": "code",
   "execution_count": 58,
   "metadata": {
    "collapsed": false
   },
   "outputs": [
    {
     "data": {
      "text/plain": [
       "207"
      ]
     },
     "execution_count": 58,
     "metadata": {},
     "output_type": "execute_result"
    }
   ],
   "source": [
    "data = sc.parallelize([('awi',4),('bcd',6),('jkl',88),('qek',99)])\n",
    "data.aggregate(5,lambda x,y: x + y[1], lambda x,y: x + y)"
   ]
  },
  {
   "cell_type": "code",
   "execution_count": 59,
   "metadata": {
    "collapsed": false
   },
   "outputs": [
    {
     "data": {
      "text/plain": [
       "(25, 7)"
      ]
     },
     "execution_count": 59,
     "metadata": {},
     "output_type": "execute_result"
    }
   ],
   "source": [
    "rdd = sc.parallelize([1,2,3,4],2)\n",
    "rdd.aggregate((5,1), lambda acc,data: (acc[0] + data, acc[1] +1), lambda acc1,acc2: (acc1[0]+acc2[0], acc1[1]+acc2[1]))"
   ]
  },
  {
   "cell_type": "markdown",
   "metadata": {},
   "source": [
    "### UniqueId"
   ]
  },
  {
   "cell_type": "code",
   "execution_count": 61,
   "metadata": {
    "collapsed": false
   },
   "outputs": [
    {
     "data": {
      "text/plain": [
       "[('a', 0), ('b', 1), ('c', 4), ('d', 2), ('e', 5)]"
      ]
     },
     "execution_count": 61,
     "metadata": {},
     "output_type": "execute_result"
    }
   ],
   "source": [
    "sc.parallelize([\"a\", \"b\", \"c\", \"d\", \"e\"], 3).zipWithUniqueId().collect()"
   ]
  },
  {
   "cell_type": "code",
   "execution_count": null,
   "metadata": {
    "collapsed": true
   },
   "outputs": [],
   "source": []
  }
 ],
 "metadata": {
  "kernelspec": {
   "display_name": "Python 2",
   "language": "python",
   "name": "python2"
  },
  "language_info": {
   "codemirror_mode": {
    "name": "ipython",
    "version": 2
   },
   "file_extension": ".py",
   "mimetype": "text/x-python",
   "name": "python",
   "nbconvert_exporter": "python",
   "pygments_lexer": "ipython2",
   "version": "2.7.13"
  },
  "name": "Day 1 - PySpark",
  "notebookId": 3545704347414206
 },
 "nbformat": 4,
 "nbformat_minor": 0
}
